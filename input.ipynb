from weather import fetch_meteo_data, plot_temperature_data, calculate_and_print_hourly_diffs,calculate_and_plot_graph_hourly_diffs,calculate_and_print_hourly_diffs_grouped
from weather import calculate_and_print_hourly_diffs_3grouped, calculate_and_plot_graph_hourly_diffs_3group,calculate_and_print_hourly_diffs_4grouped, calculate_and_plot_graph_hourly_diffs_4group
from weather import find_Hmm_2group
latitude1 = 13.754
longitude1 = 100.5014

latitude2 = 39.3292
longitude2 = -82.1013

start_date1 = "2024-02-01"
end_date1 = "2024-02-28"

start_date2 = "2024-04-01"
end_date2 = "2024-04-30"

start_date3 = "2024-07-01"
end_date3 = "2024-07-30"

start_date4 = "2024-09-01"
end_date4 = "2024-09-30"

#temperature_variables = [
#    "temperature_2m",
#   "soil_temperature_0cm",
#    "soil_temperature_6cm",
#    "soil_temperature_18cm",
#    "soil_temperature_54cm"
#]

temperature_variables = ["temperature_2m","soil_temperature_0_to_7cm","soil_temperature_7_to_28cm","soil_temperature_28_to_100cm"]


#Athens

print(start_date4, end_date4,temperature_variables[0],"and ",temperature_variables[1])

df2_1 = fetch_meteo_data(latitude2, longitude2, start_date4, end_date4, temperature_variables)
find_Hmm_2group(df2_1, temperature_variables[0],temperature_variables[1])

#plot_temperature_data(df2_1, temperature_variables)
#calculate_and_print_hourly_diffs(df2_1, temperature_variables[0],temperature_variables[1])
#calculate_and_print_hourly_diffs_grouped(df2_1, temperature_variables[0],temperature_variables[1])
#calculate_and_plot_graph_hourly_diffs(df2_1, temperature_variables[0],temperature_variables[1])
#find_Hmm_2group(df2_1, temperature_variables[0],temperature_variables[1])



#calculate_and_print_daily_diffs(df, temperature_variables)
